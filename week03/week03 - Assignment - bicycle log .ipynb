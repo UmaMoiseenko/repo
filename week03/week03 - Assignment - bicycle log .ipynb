{
 "cells": [
  {
   "cell_type": "markdown",
   "metadata": {},
   "source": [
    "## Mileage Log\n",
    "1) Create serires object that holds the cumulative miles at the end of each day\n",
    "\n",
    "2) Create function that shows total miles for each day"
   ]
  },
  {
   "cell_type": "code",
   "execution_count": 1,
   "metadata": {},
   "outputs": [],
   "source": [
    "import pandas as pd\n",
    "import numpy as np"
   ]
  },
  {
   "cell_type": "code",
   "execution_count": 207,
   "metadata": {},
   "outputs": [],
   "source": [
    "# add entry to the series\n",
    "# @Input(Series, mileage)\n",
    "# @Output(Series) \n",
    "def logMileage(series, val):\n",
    "    val += series.values[-1]\n",
    "    series.set_value(series.index[-1] + 1,  val)\n",
    "    return series\n",
    "\n",
    "# print entries of milage per day \n",
    "# @Input(Series)\n",
    "def displayLogByDay(series):\n",
    "    prev = 0;\n",
    "    for v in series:\n",
    "        index = series[series == v].index[0]\n",
    "        print(\"day\", index, \"=\", v - prev, \"miles\")\n",
    "        prev = v\n"
   ]
  },
  {
   "cell_type": "code",
   "execution_count": 208,
   "metadata": {},
   "outputs": [
    {
     "data": {
      "text/plain": [
       "1     55\n",
       "2    120\n",
       "3    191\n",
       "4    265\n",
       "5    312\n",
       "dtype: int64"
      ]
     },
     "execution_count": 208,
     "metadata": {},
     "output_type": "execute_result"
    }
   ],
   "source": [
    "mileage = pd.Series({1: 55})\n",
    "\n",
    "logMileage(mileage, 65)\n",
    "logMileage(mileage, 71)\n",
    "logMileage(mileage, 74)\n",
    "logMileage(mileage, 47)\n"
   ]
  },
  {
   "cell_type": "code",
   "execution_count": 201,
   "metadata": {},
   "outputs": [
    {
     "name": "stdout",
     "output_type": "stream",
     "text": [
      "day 1 = 55 miles\n",
      "day 2 = 65 miles\n",
      "day 3 = 71 miles\n",
      "day 4 = 74 miles\n",
      "day 5 = 47 miles\n"
     ]
    }
   ],
   "source": [
    "displayLogByDay(mileage)"
   ]
  }
 ],
 "metadata": {
  "kernelspec": {
   "display_name": "Python 3",
   "language": "python",
   "name": "python3"
  },
  "language_info": {
   "codemirror_mode": {
    "name": "ipython",
    "version": 3
   },
   "file_extension": ".py",
   "mimetype": "text/x-python",
   "name": "python",
   "nbconvert_exporter": "python",
   "pygments_lexer": "ipython3",
   "version": "3.6.1"
  }
 },
 "nbformat": 4,
 "nbformat_minor": 2
}
