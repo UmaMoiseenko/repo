{
 "cells": [
  {
   "cell_type": "markdown",
   "metadata": {},
   "source": [
    "### Objectives\n",
    "\n",
    "1. Load the ratings by user information that you collected into a pandas dataframe.\n",
    "2. Show the average ratings for each user and each movie.\n",
    "3. Create a new pandas dataframe, with normalized ratings for each user. Again, show the average\n",
    "ratings for each user and each movie.\n",
    "4. Provide a text-based conclusion: explain what might be advantages and disadvantages of using\n",
    "normalized ratings instead of the actual ratings."
   ]
  },
  {
   "cell_type": "markdown",
   "metadata": {},
   "source": [
    "#### 1. Load the ratings by user information that you collected into a pandas dataframe."
   ]
  },
  {
   "cell_type": "code",
   "execution_count": 239,
   "metadata": {},
   "outputs": [],
   "source": [
    "# bring in NumPy and pandas\n",
    "import numpy as np\n",
    "import pandas as pd\n",
    "\n",
    "df = pd.read_csv('./csv/movies.csv')"
   ]
  },
  {
   "cell_type": "markdown",
   "metadata": {},
   "source": [
    "#### 2. Show the average ratings for each user and each movie."
   ]
  },
  {
   "cell_type": "code",
   "execution_count": 235,
   "metadata": {},
   "outputs": [
    {
     "data": {
      "text/plain": [
       "             rating\n",
       "user_name          \n",
       "John       2.666667\n",
       "Jordan     3.800000\n",
       "Mina       4.000000\n",
       "Navin      3.800000\n",
       "Riley      3.250000\n",
       "Sam        3.800000"
      ]
     },
     "execution_count": 235,
     "metadata": {},
     "output_type": "execute_result"
    }
   ],
   "source": [
    "groupedByName = df.groupby('user_name')\n",
    "groupedByName.mean()"
   ]
  },
  {
   "cell_type": "code",
   "execution_count": 236,
   "metadata": {},
   "outputs": [
    {
     "data": {
      "text/plain": [
       "                      rating\n",
       "movie_name                  \n",
       "A Ghost Story       2.600000\n",
       "Baby Driver         2.333333\n",
       "Lady Macbeth        4.000000\n",
       "Okja                4.400000\n",
       "The Big Sick        3.750000\n",
       "The Lost City of Z  4.200000"
      ]
     },
     "execution_count": 236,
     "metadata": {},
     "output_type": "execute_result"
    }
   ],
   "source": [
    "groupedByMovie = df.groupby('movie_name')\n",
    "groupedByMovie.mean()"
   ]
  },
  {
   "cell_type": "markdown",
   "metadata": {},
   "source": [
    "### 3. Create a new pandas dataframe, with normalized ratings for each user."
   ]
  },
  {
   "cell_type": "code",
   "execution_count": 238,
   "metadata": {},
   "outputs": [],
   "source": [
    "normalizedDf = df.copy()\n",
    "normalizedDf.rating = groupedByName.transform(lambda x: (x - np.mean(x)) / (np.max(x) - np.min(x)))"
   ]
  },
  {
   "cell_type": "markdown",
   "metadata": {},
   "source": [
    "###  Show the average with normalized ratings for each user."
   ]
  },
  {
   "cell_type": "code",
   "execution_count": 233,
   "metadata": {},
   "outputs": [
    {
     "data": {
      "text/plain": [
       "                 rating\n",
       "user_name              \n",
       "John       1.480297e-16\n",
       "Jordan     5.551115e-17\n",
       "Mina       0.000000e+00\n",
       "Navin      4.440892e-17\n",
       "Riley      0.000000e+00\n",
       "Sam        6.661338e-17"
      ]
     },
     "execution_count": 233,
     "metadata": {},
     "output_type": "execute_result"
    }
   ],
   "source": [
    "groupedByName_normalized = normalizedDf.groupby('user_name')\n",
    "groupedByName_normalized.mean()"
   ]
  },
  {
   "cell_type": "markdown",
   "metadata": {},
   "source": [
    "###  Show the average normalized ratings for each movie."
   ]
  },
  {
   "cell_type": "code",
   "execution_count": 234,
   "metadata": {},
   "outputs": [
    {
     "data": {
      "text/plain": [
       "                      rating\n",
       "movie_name                  \n",
       "A Ghost Story      -0.465000\n",
       "Baby Driver        -0.566667\n",
       "Lady Macbeth        0.115000\n",
       "Okja                0.401667\n",
       "The Big Sick        0.133333\n",
       "The Lost City of Z  0.181667"
      ]
     },
     "execution_count": 234,
     "metadata": {},
     "output_type": "execute_result"
    }
   ],
   "source": [
    "groupedByMovie_normalized = normalizedDf.groupby('movie_name')\n",
    "groupedByMovie_normalized.mean()"
   ]
  },
  {
   "cell_type": "markdown",
   "metadata": {},
   "source": [
    "### Conclusion\n",
    "**Advantages and disadvantages of using normalized ratings instead of the actual ratings.**\n",
    "\n",
    "I think in case of movie ratings, there's no need for normalization. Outliers will cause data to a scale in smaller interval, plus ut's harder to understand the meaning of the number. Getting mean from orinal (0-5) rating is sufficient enough."
   ]
  }
 ],
 "metadata": {
  "kernelspec": {
   "display_name": "Python 3",
   "language": "python",
   "name": "python3"
  },
  "language_info": {
   "codemirror_mode": {
    "name": "ipython",
    "version": 3
   },
   "file_extension": ".py",
   "mimetype": "text/x-python",
   "name": "python",
   "nbconvert_exporter": "python",
   "pygments_lexer": "ipython3",
   "version": "3.6.1"
  }
 },
 "nbformat": 4,
 "nbformat_minor": 2
}
