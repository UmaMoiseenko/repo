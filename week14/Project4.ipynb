{
 "cells": [
  {
   "cell_type": "markdown",
   "metadata": {},
   "source": [
    "#### 1. Load mushroom data from the web into a pandas dataframe."
   ]
  },
  {
   "cell_type": "code",
   "execution_count": 1,
   "metadata": {},
   "outputs": [
    {
     "name": "stderr",
     "output_type": "stream",
     "text": [
      "/Applications/anaconda/lib/python3.6/site-packages/sklearn/cross_validation.py:44: DeprecationWarning: This module was deprecated in version 0.18 in favor of the model_selection module into which all the refactored classes and functions are moved. Also note that the interface of the new CV iterators are different from that of this module. This module will be removed in 0.20.\n",
      "  \"This module will be removed in 0.20.\", DeprecationWarning)\n"
     ]
    }
   ],
   "source": [
    "# bring in NumPy and pandas\n",
    "import pandas as pd\n",
    "import numpy as np\n",
    "import requests\n",
    "from sklearn.neighbors import KNeighborsClassifier\n",
    "from sklearn.linear_model import LogisticRegression\n",
    "from sklearn.cross_validation import train_test_split\n",
    "from sklearn import metrics\n",
    "\n",
    "url=\"https://archive.ics.uci.edu/ml/machine-learning-databases/mushroom/agaricus-lepiota.data\"\n",
    "s = requests.get(url).content\n",
    "s = s.decode('utf-8')\n",
    "s_rows = s.split('\\n')\n",
    "s_rows_cols = [each.split() for each in s_rows]\n",
    "tempDf = pd.DataFrame(s_rows_cols)\n",
    "tempDf = tempDf[0].str.split(',', expand=True)\n"
   ]
  },
  {
   "cell_type": "markdown",
   "metadata": {},
   "source": [
    "#### 2. Create a new table.\n",
    "Create a dataframe that consists of 3 named columns, and replace given codes with numeric values.\n"
   ]
  },
  {
   "cell_type": "code",
   "execution_count": 2,
   "metadata": {
    "collapsed": true
   },
   "outputs": [],
   "source": [
    "df = pd.concat([tempDf[0], tempDf[5], tempDf[22]], axis=1, keys=['Edible', 'Odor', 'Habitat'])\n",
    "\n",
    "df['Edible'] = df['Edible'].replace(['p', 'e'], [1, 2])\n",
    "\n",
    "df['Odor'] = df['Odor'].replace(\n",
    "    ['a', 'l', 'c', 'y', 'f', 'm', 'n', 'p', 's'], \n",
    "    [1, 2, 3, 4, 5, 6, 7, 8, 9])\n",
    "\n",
    "df['Habitat'] = df['Habitat'].replace(\n",
    "    ['g', 'l', 'm', 'p', 'u', 'w', 'd'],\n",
    "    [1, 2, 3, 4, 5, 6, 7])\n",
    "\n",
    "df = df.fillna(0.0).astype(int)"
   ]
  },
  {
   "cell_type": "markdown",
   "metadata": {},
   "source": [
    "We create x and y values that we can feed in LogisticRegression"
   ]
  },
  {
   "cell_type": "code",
   "execution_count": 6,
   "metadata": {
    "collapsed": true
   },
   "outputs": [],
   "source": [
    "x = df[df.columns[0:1]].values\n",
    "y_odor = df['Odor'].values\n",
    "y_habitat = df['Habitat'].values\n"
   ]
  },
  {
   "cell_type": "markdown",
   "metadata": {},
   "source": [
    "#### 3. Logistic regression\n",
    "Now we are going to train the model and test it on the entire dataset (x and y values).\n",
    "We'll do it for data sets with Odor and Habitat."
   ]
  },
  {
   "cell_type": "code",
   "execution_count": 7,
   "metadata": {},
   "outputs": [
    {
     "name": "stdout",
     "output_type": "stream",
     "text": [
      "0.685292307692\n",
      "0.686769230769\n"
     ]
    }
   ],
   "source": [
    "logreg = LogisticRegression()\n",
    "logreg.fit(x, y_odor)\n",
    "y_odor_pred = logreg.predict(x)\n",
    "print(metrics.accuracy_score(y_odor, y_odor_pred))\n",
    "\n",
    "\n",
    "X_train, X_test, y_train, Y_test = train_test_split(x, y_odor, test_size = 0.4)\n",
    "logreg = LogisticRegression()\n",
    "logreg.fit(X_train, y_train)\n",
    "y_pred = logreg.predict(X_test)\n",
    "print(metrics.accuracy_score(Y_test, y_pred))"
   ]
  },
  {
   "cell_type": "code",
   "execution_count": 5,
   "metadata": {},
   "outputs": [
    {
     "name": "stdout",
     "output_type": "stream",
     "text": [
      "0.387446153846\n",
      "0.396\n"
     ]
    }
   ],
   "source": [
    "logreg = LogisticRegression()\n",
    "logreg.fit(x, y_habitat)\n",
    "y_habitat_pred = logreg.predict(x)\n",
    "print(metrics.accuracy_score(y_habitat, y_habitat_pred))\n",
    "\n",
    "\n",
    "X_train, X_test, y_train, Y_test = train_test_split(x, y_habitat, test_size = 0.4)\n",
    "logreg = LogisticRegression()\n",
    "logreg.fit(X_train, y_train)\n",
    "y_pred = logreg.predict(X_test)\n",
    "print(metrics.accuracy_score(Y_test, y_pred))"
   ]
  },
  {
   "cell_type": "markdown",
   "metadata": {},
   "source": [
    "### Once we ran these tests, we first noticed that train model is more accurate for both, Habitat and Ordor. We also see that it is likely to determine whether the maushroom is poisonous by it's odor, as opposed to where this mushroom grows.\n",
    "Likelyhood of determening the poisnous mushroom by it's ordor is about 0.7.\n",
    "Likelyhood of determening the poisnous mushroom by where it grows is about 0.4"
   ]
  },
  {
   "cell_type": "code",
   "execution_count": null,
   "metadata": {
    "collapsed": true
   },
   "outputs": [],
   "source": []
  }
 ],
 "metadata": {
  "kernelspec": {
   "display_name": "Python 3",
   "language": "python",
   "name": "python3"
  },
  "language_info": {
   "codemirror_mode": {
    "name": "ipython",
    "version": 3
   },
   "file_extension": ".py",
   "mimetype": "text/x-python",
   "name": "python",
   "nbconvert_exporter": "python",
   "pygments_lexer": "ipython3",
   "version": "3.6.1"
  }
 },
 "nbformat": 4,
 "nbformat_minor": 2
}
