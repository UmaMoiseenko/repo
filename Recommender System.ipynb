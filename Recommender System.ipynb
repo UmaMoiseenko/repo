{
 "cells": [
  {
   "cell_type": "markdown",
   "metadata": {},
   "source": [
    "# *AMAZON RECOMMENDER SYSTEM*\n",
    "\n",
    "### AMAZON TARGET USERS\n",
    "Target users in my scenario are users that buy products, sell review, and ideally use other Amazon services - such as Amazon Prime, and AWS Services (EC2, S3, Cloud Solutions, etc). Customers that clicking on different products, looking at and rating reviews, as well as goods they buy - are the target.\n",
    "\n",
    "### KEY GOALS \n",
    "The goal is to give more intelligent suggestion based on aggregated data about the user. Every next suggestion ideally does not simply offers a similar product, but it also have a similar rating, brand reputation, and possible use cases for the previously bought goods. If user recently bought a set of outdoor furniture, it makes sense to assume that user might need other goods for outdoors, and based on the average price and quality of the product that customer ordered, we can make further assumptions on price range of other goods for outdoors that will be suitable. Also it is important to notify user about extra features that he/she has not used yet, sometimes people ignore new available options out of habit. The goal is to tune customer towards updates and offers, and see what features and offers are more successful, for further business model improvements.\n",
    "\n",
    "### HELP IN ACCOMPLISHING GOALS\n",
    "Active users are the ones that help to accomplish the goals. If it's purchasing goods from the website, then it will be helpful for them if I leave my honest review, so other customers will be more aware of the quality of the product. If I use the web service they offer, then I can help them by being active in programmers community, and post tutorials, on how to use their products, as well as I could report bugs and issues I find along the way when using their products, so their developers team can address the issue or missing features."
   ]
  },
  {
   "cell_type": "code",
   "execution_count": null,
   "metadata": {
    "collapsed": true
   },
   "outputs": [],
   "source": []
  }
 ],
 "metadata": {
  "kernelspec": {
   "display_name": "Python 3",
   "language": "python",
   "name": "python3"
  },
  "language_info": {
   "codemirror_mode": {
    "name": "ipython",
    "version": 3
   },
   "file_extension": ".py",
   "mimetype": "text/x-python",
   "name": "python",
   "nbconvert_exporter": "python",
   "pygments_lexer": "ipython3",
   "version": "3.6.1"
  }
 },
 "nbformat": 4,
 "nbformat_minor": 2
}
