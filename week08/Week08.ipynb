{
 "cells": [
  {
   "cell_type": "markdown",
   "metadata": {},
   "source": [
    "### Objectives\n",
    "\n",
    "1. Load the ratings by user information that you collected into a pandas dataframe.\n",
    "2. Show the average ratings for each user and each movie.\n",
    "3. Create a new pandas dataframe, with normalized ratings for each user. Again, show the average\n",
    "ratings for each user and each movie.\n",
    "4. Provide a text-based conclusion: explain what might be advantages and disadvantages of using\n",
    "normalized ratings instead of the actual ratings."
   ]
  },
  {
   "cell_type": "markdown",
   "metadata": {},
   "source": [
    "#### 1. Load the ratings by user information that you collected into a pandas dataframe."
   ]
  },
  {
   "cell_type": "code",
   "execution_count": null,
   "metadata": {},
   "outputs": [],
   "source": [
    "# bring in NumPy and pandas\n",
    "import numpy as np\n",
    "import pandas as pd\n",
    "import matplotlib.pyplot as plt\n",
    "import requests\n",
    "import seaborn as sns\n",
    "\n",
    "\n",
    "url=\"https://archive.ics.uci.edu/ml/machine-learning-databases/auto-mpg/auto-mpg.data\"\n",
    "s = requests.get(url).content\n",
    "s = s.decode('utf-8')\n",
    "s_rows = s.split('\\n')\n",
    "s_rows_cols = [each.split() for each in s_rows]\n",
    "tempDf = pd.DataFrame(s_rows_cols)\n",
    "\n",
    "# replace none values with empty space\n",
    "for c in tempDf:\n",
    "   if str(tempDf[c].dtype) in ('object', 'string_', 'unicode_'):\n",
    "        tempDf[c].fillna(value='', inplace=True)\n",
    "\n",
    "# set corresponding values for origin\n",
    "tempDf[7] = tempDf[7].replace(['1', '2', '3'], ['USA', 'Asia', 'Europe'])\n",
    "\n",
    "# replace missing horsepower values with none and convert to numeric\n",
    "tempDf[3] = pd.to_numeric(tempDf[3], errors='coerce')\n",
    "\n",
    "# concat 3 columns with names into one\n",
    "tempDf[8] = tempDf[8] + ' ' + tempDf[9] + ' ' + tempDf[10]\n",
    "\n",
    "# create new dataframe with named columns\n",
    "df = tempDf.iloc[:,0:9]\n",
    "header_row = ['mpg','cylinders','displacement','horsepower','weight','acceleration','model year','origin','car name']\n",
    "df.columns = header_row\n",
    "df\n"
   ]
  },
  {
   "cell_type": "code",
   "execution_count": null,
   "metadata": {
    "collapsed": true
   },
   "outputs": [],
   "source": []
  }
 ],
 "metadata": {
  "kernelspec": {
   "display_name": "Python 3",
   "language": "python",
   "name": "python3"
  },
  "language_info": {
   "codemirror_mode": {
    "name": "ipython",
    "version": 3
   },
   "file_extension": ".py",
   "mimetype": "text/x-python",
   "name": "python",
   "nbconvert_exporter": "python",
   "pygments_lexer": "ipython3",
   "version": "3.6.1"
  }
 },
 "nbformat": 4,
 "nbformat_minor": 2
}
